{
 "cells": [
  {
   "cell_type": "markdown",
   "id": "200f2de5",
   "metadata": {},
   "source": [
    "# <center>探索Hacker News上的帖子</center>"
   ]
  },
  {
   "cell_type": "markdown",
   "id": "b11d241f",
   "metadata": {},
   "source": [
    "<p style=\"text-align:right\">8207200203 计算机2006班 翟衍博</p>"
   ]
  },
  {
   "cell_type": "markdown",
   "id": "655dcdb5",
   "metadata": {},
   "source": [
    "## 1. 了解和读取数据集\n",
    "Hacker News是由Y Combinator创建的网站，其中用户提交的故事（称为“帖子”）被投票和评论。列的说明：\n",
    "\n",
    "id：来自Hacker News的唯一标识符；\n",
    "\n",
    "title：帖子的标题；\n",
    "\n",
    "url：帖子链接到的URL，如果帖子有URL；\n",
    "\n",
    "num_points：帖子获得的点数，计算的方法为支持的总票数减去反对的总票数；\n",
    "\n",
    "num_comments：在帖子上发表的评论数；\n",
    "\n",
    "author：提交帖子的人的用户名；\n",
    "\n",
    "created_at：提交帖子的日期和时间\n",
    "\n",
    "我们只关心以Ask HN或Show HN开头的帖子标题,我们将比较这两种类型的帖子，以确定以下内容：\n",
    "\n",
    "Ask HN或Show HN平均会收到更多的评论吗?\n",
    "\n",
    "在某个时间发布的帖子平均会收到更多评论吗?"
   ]
  },
  {
   "cell_type": "markdown",
   "id": "cc23c1a0",
   "metadata": {},
   "source": [
    "### 读取数据集"
   ]
  },
  {
   "cell_type": "code",
   "execution_count": 59,
   "id": "1fbb5db7",
   "metadata": {},
   "outputs": [
    {
     "name": "stdout",
     "output_type": "stream",
     "text": [
      "[['id', 'title', 'url', 'num_points', 'num_comments', 'author', 'created_at'], ['12224879', 'Interactive Dynamic Video', 'http://www.interactivedynamicvideo.com/', '386', '52', 'ne0phyte', '8/4/2016 11:52'], ['10975351', 'How to Use Open Source and Shut the Fuck Up at the Same Time', 'http://hueniverse.com/2016/01/26/how-to-use-open-source-and-shut-the-fuck-up-at-the-same-time/', '39', '10', 'josep2', '1/26/2016 19:30'], ['11964716', \"Florida DJs May Face Felony for April Fools' Water Joke\", 'http://www.thewire.com/entertainment/2013/04/florida-djs-april-fools-water-joke/63798/', '2', '1', 'vezycash', '6/23/2016 22:20'], ['11919867', 'Technology ventures: From Idea to Enterprise', 'https://www.amazon.com/Technology-Ventures-Enterprise-Thomas-Byers/dp/0073523429', '3', '1', 'hswarna', '6/17/2016 0:01']]\n"
     ]
    }
   ],
   "source": [
    "opened_file=open('hacker_news.csv')\n",
    "from csv import reader\n",
    "read_file=reader(opened_file)\n",
    "hn=list(read_file)\n",
    "print(hn[:5])"
   ]
  },
  {
   "cell_type": "markdown",
   "id": "cbbc873e",
   "metadata": {},
   "source": [
    "## 2.从二维列表中移除标题行\n",
    "\n"
   ]
  },
  {
   "cell_type": "code",
   "execution_count": 60,
   "id": "beb2461f",
   "metadata": {},
   "outputs": [
    {
     "name": "stdout",
     "output_type": "stream",
     "text": [
      "['id', 'title', 'url', 'num_points', 'num_comments', 'author', 'created_at']\n",
      "[['12224879', 'Interactive Dynamic Video', 'http://www.interactivedynamicvideo.com/', '386', '52', 'ne0phyte', '8/4/2016 11:52'], ['10975351', 'How to Use Open Source and Shut the Fuck Up at the Same Time', 'http://hueniverse.com/2016/01/26/how-to-use-open-source-and-shut-the-fuck-up-at-the-same-time/', '39', '10', 'josep2', '1/26/2016 19:30'], ['11964716', \"Florida DJs May Face Felony for April Fools' Water Joke\", 'http://www.thewire.com/entertainment/2013/04/florida-djs-april-fools-water-joke/63798/', '2', '1', 'vezycash', '6/23/2016 22:20'], ['11919867', 'Technology ventures: From Idea to Enterprise', 'https://www.amazon.com/Technology-Ventures-Enterprise-Thomas-Byers/dp/0073523429', '3', '1', 'hswarna', '6/17/2016 0:01'], ['10301696', 'Note by Note: The Making of Steinway L1037 (2007)', 'http://www.nytimes.com/2007/11/07/movies/07stein.html?_r=0', '8', '2', 'walterbell', '9/30/2015 4:12']]\n"
     ]
    }
   ],
   "source": [
    "headers=hn[0]\n",
    "hn=hn[1:]\n",
    "print(headers)\n",
    "print(hn[:5])"
   ]
  },
  {
   "cell_type": "markdown",
   "id": "7dbe5a95",
   "metadata": {},
   "source": [
    "## 3. 提取Ask HN和Show HN帖子\n",
    "\n"
   ]
  },
  {
   "cell_type": "code",
   "execution_count": 61,
   "id": "a62800b7",
   "metadata": {},
   "outputs": [
    {
     "name": "stdout",
     "output_type": "stream",
     "text": [
      "1744\n",
      "1162\n",
      "17194\n"
     ]
    }
   ],
   "source": [
    "#使用startswith(),lower()方法\n",
    "\n",
    "ask_posts=[]\n",
    "show_posts=[]\n",
    "other_posts=[]\n",
    "for row in hn:\n",
    "    title=row[1]\n",
    "    title=title.lower()\n",
    "    if title.startswith('show hn') :\n",
    "        show_posts.append(row)\n",
    "    elif title.startswith('ask hn'):\n",
    "        ask_posts.append(row)\n",
    "    else:\n",
    "        other_posts.append(row)\n",
    "        \n",
    "print(len(ask_posts))\n",
    "print(len(show_posts))\n",
    "print(len(other_posts))"
   ]
  },
  {
   "cell_type": "markdown",
   "id": "6d6b34ca",
   "metadata": {},
   "source": [
    "## 4.计算Ask HN和Show HN帖子的平均评论数量\n",
    "\n"
   ]
  },
  {
   "cell_type": "code",
   "execution_count": 62,
   "id": "1f28f175",
   "metadata": {},
   "outputs": [
    {
     "name": "stdout",
     "output_type": "stream",
     "text": [
      "14.038417431192661\n"
     ]
    }
   ],
   "source": [
    "total_ask_comments=0\n",
    "for row in ask_posts:\n",
    "    cmt=row[4]\n",
    "    total_ask_comments+=int(cmt)\n",
    "avg_ask_comments=total_ask_comments/len(ask_posts)\n",
    "print(avg_ask_comments)"
   ]
  },
  {
   "cell_type": "code",
   "execution_count": 63,
   "id": "3fd00e9a",
   "metadata": {},
   "outputs": [
    {
     "name": "stdout",
     "output_type": "stream",
     "text": [
      "10.31669535283993\n"
     ]
    }
   ],
   "source": [
    "total_show_comments=0\n",
    "for row in show_posts:\n",
    "    cmt=row[4]\n",
    "    total_show_comments+=int(cmt)\n",
    "avg_show_comments=total_show_comments/len(show_posts)\n",
    "print(avg_show_comments)"
   ]
  },
  {
   "cell_type": "markdown",
   "id": "91a1ac56",
   "metadata": {},
   "source": [
    "根据以上分析结果，我们可以得出“ask posts”类型会收获更多评论，这也符合常理，因为帖子是提问类型的，那么就会多一些评论回答。"
   ]
  },
  {
   "cell_type": "markdown",
   "id": "f58b47e1",
   "metadata": {},
   "source": [
    "## 5. 按小时计算所创建的ask posts和评论的数量\n"
   ]
  },
  {
   "cell_type": "code",
   "execution_count": 64,
   "id": "a27ae8fa",
   "metadata": {},
   "outputs": [],
   "source": [
    "# 接下来，我们将确定在特定时间创建的ask posts是否更有可能吸引评论。\n",
    "#使用datetime.strptime()\n",
    "import datetime as dt\n",
    "result_list=[]\n",
    "for row in ask_posts:\n",
    "    c_a=row[6]    #created_at列\n",
    "    cmt=int(row[4])    #评论数量\n",
    "    result_list.append([c_a,cmt])\n",
    "    \n",
    "counts_by_hour={}\n",
    "comments_by_hour={}\n",
    "\n",
    "for row in result_list:\n",
    "    time=dt.datetime.strptime(row[0],'%m/%d/%Y %H:%M')#格式举例：'1/26/2016 19:30'\n",
    "    hour=time.hour\n",
    "    cmt=row[1]\n",
    "    if hour not in counts_by_hour:\n",
    "        counts_by_hour[hour]=1\n",
    "        comments_by_hour[hour]=cmt\n",
    "    else:\n",
    "        counts_by_hour[hour]+=1\n",
    "        comments_by_hour[hour]+=cmt\n",
    "        "
   ]
  },
  {
   "cell_type": "markdown",
   "id": "cfb34f6b",
   "metadata": {},
   "source": [
    "## 6. 按小时计算Ask HN帖子的平均评论数量"
   ]
  },
  {
   "cell_type": "code",
   "execution_count": 65,
   "id": "9d822c46",
   "metadata": {},
   "outputs": [],
   "source": [
    "commments_pre_hour=[]\n",
    "for hour in counts_by_hour:\n",
    "    avg_cmt=comments_by_hour[hour]/counts_by_hour[hour]\n",
    "    commments_pre_hour.append([hour,avg_cmt])"
   ]
  },
  {
   "cell_type": "markdown",
   "id": "7204ad1a",
   "metadata": {},
   "source": [
    "## 7. 对二维列表进行排序"
   ]
  },
  {
   "cell_type": "code",
   "execution_count": 66,
   "id": "7cece695",
   "metadata": {},
   "outputs": [
    {
     "name": "stdout",
     "output_type": "stream",
     "text": [
      "Top 5 Hours for Ask Posts Comments\n",
      "38.5948275862069 15\n",
      "23.810344827586206 2\n",
      "21.525 20\n",
      "16.796296296296298 16\n",
      "16.009174311926607 21\n"
     ]
    }
   ],
   "source": [
    "#要根据平均评论数进行排序，因此要交换hour与avg_cmt的位置，\n",
    "#然后使用sorted（）方法进行排序。\n",
    "swap_commments_pre_hour=[];\n",
    "for item in commments_pre_hour:\n",
    "    swap_commments_pre_hour.append([item[1],item[0]])\n",
    "sorted_swap=sorted(swap_commments_pre_hour,reverse=True);\n",
    "\n",
    "print(\"Top 5 Hours for Ask Posts Comments\")\n",
    "\n",
    "for i in range(5):\n",
    "    print(sorted_swap[i][0],sorted_swap[i][1])"
   ]
  },
  {
   "cell_type": "code",
   "execution_count": 67,
   "id": "2b3ef0c2",
   "metadata": {},
   "outputs": [
    {
     "name": "stdout",
     "output_type": "stream",
     "text": [
      "15:00: 38.59 average comments per post\n",
      "2:00: 23.81 average comments per post\n",
      "20:00: 21.52 average comments per post\n",
      "16:00: 16.80 average comments per post\n",
      "21:00: 16.01 average comments per post\n"
     ]
    }
   ],
   "source": [
    "# 进行格式化\n",
    "for i in range(5):\n",
    "    print(\"{}:00: {:.2f} average comments per post\".format(sorted_swap[i][1],sorted_swap[i][0]))"
   ]
  },
  {
   "cell_type": "markdown",
   "id": "50da4be1",
   "metadata": {},
   "source": [
    "## 结论：从以上分析可以得出，当地时间15：00时，Ask HN帖子的平均评论数量最大。"
   ]
  }
 ],
 "metadata": {
  "kernelspec": {
   "display_name": "Python 3 (ipykernel)",
   "language": "python",
   "name": "python3"
  },
  "language_info": {
   "codemirror_mode": {
    "name": "ipython",
    "version": 3
   },
   "file_extension": ".py",
   "mimetype": "text/x-python",
   "name": "python",
   "nbconvert_exporter": "python",
   "pygments_lexer": "ipython3",
   "version": "3.8.12"
  }
 },
 "nbformat": 4,
 "nbformat_minor": 5
}
