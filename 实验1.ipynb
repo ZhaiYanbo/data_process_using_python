{
 "cells": [
  {
   "cell_type": "markdown",
   "id": "451adffd",
   "metadata": {},
   "source": [
    "# <center>实验1：苹果和谷歌应用商店的盈利应用画像</center>"
   ]
  },
  {
   "cell_type": "markdown",
   "id": "1a5ff914",
   "metadata": {},
   "source": [
    "<p style=\"text-align:right\">8207200203 计算机2006班 翟衍博</p>"
   ]
  },
  {
   "cell_type": "markdown",
   "id": "c1989786",
   "metadata": {},
   "source": [
    "## 一、实验目的"
   ]
  },
  {
   "cell_type": "markdown",
   "id": "2de27289",
   "metadata": {},
   "source": [
    "截至2018年9月，App Store上大约有200万个iOS应用程序可用，Google Play上有210万个Android应用程序可用，图1展示了一些大型应用商店的app数量统计情况。然而，随着app的多元化和部分领域逐渐饱和，开发者需要了解到哪些app更受用户欢迎，从而有针对性的进行app开发。因此，本项目目标是了解什么样的应用程序能够在Google Play和App Store上吸引更多用户。"
   ]
  },
  {
   "cell_type": "markdown",
   "id": "53491015",
   "metadata": {},
   "source": [
    "## 二、实验过程（实验源代码、实验步骤、实验结果输出）"
   ]
  },
  {
   "cell_type": "markdown",
   "id": "ed1342c2",
   "metadata": {},
   "source": [
    "### 用于读文件的函数"
   ]
  },
  {
   "cell_type": "code",
   "execution_count": 1,
   "id": "37374f1a",
   "metadata": {},
   "outputs": [],
   "source": [
    "def explore_data(dataset,start,end,rows_and_columns=False):\n",
    "    dataset_slicce=dataset[start:end]\n",
    "    for row in dataset_slicce:\n",
    "        print(row)\n",
    "        print('\\n')\n",
    "    if rows_and_columns:\n",
    "        print('Number of rows:',len(dataset))\n",
    "        print('Number of columns:', len(dataset[0]))"
   ]
  },
  {
   "cell_type": "markdown",
   "id": "33e144b1",
   "metadata": {},
   "source": [
    "### 将数据存储到二维列表中"
   ]
  },
  {
   "cell_type": "code",
   "execution_count": 2,
   "id": "b96911b1",
   "metadata": {},
   "outputs": [],
   "source": [
    "opened_file = open('AppleStore.csv',encoding='utf-8')\n",
    "from csv import reader\n",
    "read_file = reader(opened_file)\n",
    "apps_data = list(read_file)\n",
    "apps_header=apps_data[0]\n",
    "apps_data=apps_data[1:]\n",
    "\n",
    "opened_file = open('googleplaystore.csv',encoding='utf-8')\n",
    "from csv import reader\n",
    "read_file = reader(opened_file)\n",
    "goop_data = list(read_file)\n",
    "goop_header=goop_data[0]\n",
    "goop_data=goop_data[1:]"
   ]
  },
  {
   "cell_type": "markdown",
   "id": "826037cb",
   "metadata": {},
   "source": [
    "### 使用explore_data()函数研究这两个数据集"
   ]
  },
  {
   "cell_type": "code",
   "execution_count": 3,
   "id": "8d0ce6b6",
   "metadata": {},
   "outputs": [
    {
     "name": "stdout",
     "output_type": "stream",
     "text": [
      "['1', '281656475', 'PAC-MAN Premium', '100788224', 'USD', '3.99', '21292', '26', '4', '4.5', '6.3.5', '4+', 'Games', '38', '5', '10', '1']\n",
      "\n",
      "\n",
      "['2', '281796108', 'Evernote - stay organized', '158578688', 'USD', '0', '161065', '26', '4', '3.5', '8.2.2', '4+', 'Productivity', '37', '5', '23', '1']\n",
      "\n",
      "\n",
      "['3', '281940292', 'WeatherBug - Local Weather, Radar, Maps, Alerts', '100524032', 'USD', '0', '188583', '2822', '3.5', '4.5', '5.0.0', '4+', 'Weather', '37', '5', '3', '1']\n",
      "\n",
      "\n",
      "Number of rows: 7197\n",
      "Number of columns: 17\n",
      "['Photo Editor & Candy Camera & Grid & ScrapBook', 'ART_AND_DESIGN', '4.1', '159', '19M', '10,000+', 'Free', '0', 'Everyone', 'Art & Design', 'January 7, 2018', '1.0.0', '4.0.3 and up']\n",
      "\n",
      "\n",
      "['Coloring book moana', 'ART_AND_DESIGN', '3.9', '967', '14M', '500,000+', 'Free', '0', 'Everyone', 'Art & Design;Pretend Play', 'January 15, 2018', '2.0.0', '4.0.3 and up']\n",
      "\n",
      "\n",
      "['U Launcher Lite – FREE Live Cool Themes, Hide Apps', 'ART_AND_DESIGN', '4.7', '87510', '8.7M', '5,000,000+', 'Free', '0', 'Everyone', 'Art & Design', 'August 1, 2018', '1.2.4', '4.0.3 and up']\n",
      "\n",
      "\n",
      "Number of rows: 10841\n",
      "Number of columns: 13\n"
     ]
    }
   ],
   "source": [
    "explore_data(apps_data,0,3,True)\n",
    "explore_data(goop_data,0,3,True)"
   ]
  },
  {
   "cell_type": "markdown",
   "id": "0dc87954",
   "metadata": {},
   "source": [
    "## 打印列名"
   ]
  },
  {
   "cell_type": "code",
   "execution_count": 4,
   "id": "0d83226e",
   "metadata": {},
   "outputs": [
    {
     "name": "stdout",
     "output_type": "stream",
     "text": [
      "['', 'id', 'track_name', 'size_bytes', 'currency', 'price', 'rating_count_tot', 'rating_count_ver', 'user_rating', 'user_rating_ver', 'ver', 'cont_rating', 'prime_genre', 'sup_devices.num', 'ipadSc_urls.num', 'lang.num', 'vpp_lic']\n",
      "['App', 'Category', 'Rating', 'Reviews', 'Size', 'Installs', 'Type', 'Price', 'Content Rating', 'Genres', 'Last Updated', 'Current Ver', 'Android Ver']\n"
     ]
    }
   ],
   "source": [
    "print(apps_header)\n",
    "print(goop_header)"
   ]
  },
  {
   "cell_type": "markdown",
   "id": "441c35a8",
   "metadata": {},
   "source": [
    "### 打印并删除错误数据，其中错误数据的位置在网站上得知"
   ]
  },
  {
   "cell_type": "code",
   "execution_count": 5,
   "id": "0193db28",
   "metadata": {},
   "outputs": [
    {
     "name": "stdout",
     "output_type": "stream",
     "text": [
      "['Life Made WI-Fi Touchscreen Photo Frame', '1.9', '19', '3.0M', '1,000+', 'Free', '0', 'Everyone', '', 'February 11, 2018', '1.0.19', '4.0 and up']\n",
      "\n",
      "\n",
      "['App', 'Category', 'Rating', 'Reviews', 'Size', 'Installs', 'Type', 'Price', 'Content Rating', 'Genres', 'Last Updated', 'Current Ver', 'Android Ver']\n"
     ]
    }
   ],
   "source": [
    "print(goop_data[10472])\n",
    "print('\\n')\n",
    "print(goop_header)\n",
    "del(goop_data[10472])"
   ]
  },
  {
   "cell_type": "markdown",
   "id": "38814787",
   "metadata": {},
   "source": [
    "### 打印并删除重复条目"
   ]
  },
  {
   "cell_type": "code",
   "execution_count": 6,
   "id": "7455fef7",
   "metadata": {},
   "outputs": [
    {
     "name": "stdout",
     "output_type": "stream",
     "text": [
      "\n",
      "\n",
      "['Quick PDF Scanner + OCR FREE', 'Box', 'Google My Business', 'ZOOM Cloud Meetings', 'join.me - Simple Meetings']\n",
      "1181\n"
     ]
    }
   ],
   "source": [
    "unique_apps=[]\n",
    "duplicate_apps=[]\n",
    "for app in goop_data:\n",
    "    name=app[0]\n",
    "    if name in unique_apps:\n",
    "        duplicate_apps.append(name)\n",
    "    else:\n",
    "        unique_apps.append(name)\n",
    "print('\\n')\n",
    "print(duplicate_apps[:5])\n",
    "print(len(duplicate_apps))"
   ]
  },
  {
   "cell_type": "code",
   "execution_count": 7,
   "id": "8cb199bf",
   "metadata": {},
   "outputs": [
    {
     "name": "stdout",
     "output_type": "stream",
     "text": [
      "9659\n"
     ]
    }
   ],
   "source": [
    "name_and_reviews={}\n",
    "for row in goop_data:\n",
    "    name=row[0]\n",
    "    n_reviews=float(row[3])\n",
    "    if name in name_and_reviews:\n",
    "        if n_reviews>name_and_reviews[name]:\n",
    "            name_and_reviews[name]=n_reviews\n",
    "    else:\n",
    "        name_and_reviews[name] = n_reviews\n",
    "print(len(name_and_reviews))"
   ]
  },
  {
   "cell_type": "code",
   "execution_count": 8,
   "id": "4b5cd706",
   "metadata": {},
   "outputs": [
    {
     "name": "stdout",
     "output_type": "stream",
     "text": [
      "['Photo Editor & Candy Camera & Grid & ScrapBook', 'ART_AND_DESIGN', '4.1', '159', '19M', '10,000+', 'Free', '0', 'Everyone', 'Art & Design', 'January 7, 2018', '1.0.0', '4.0.3 and up']\n",
      "\n",
      "\n",
      "['U Launcher Lite – FREE Live Cool Themes, Hide Apps', 'ART_AND_DESIGN', '4.7', '87510', '8.7M', '5,000,000+', 'Free', '0', 'Everyone', 'Art & Design', 'August 1, 2018', '1.2.4', '4.0.3 and up']\n",
      "\n",
      "\n",
      "['Sketch - Draw & Paint', 'ART_AND_DESIGN', '4.5', '215644', '25M', '50,000,000+', 'Free', '0', 'Teen', 'Art & Design', 'June 8, 2018', 'Varies with device', '4.2 and up']\n",
      "\n",
      "\n",
      "Number of rows: 9659\n",
      "Number of columns: 13\n"
     ]
    }
   ],
   "source": [
    "android_clean=[]\n",
    "already_add=[]\n",
    "for row in goop_data:\n",
    "    name=row[0]\n",
    "    n_reviews=float(row[3])\n",
    "    if n_reviews==name_and_reviews[name] and name not in already_add:\n",
    "        android_clean.append(row)\n",
    "        already_add.append(name)\n",
    "explore_data(android_clean,0,3,True)"
   ]
  },
  {
   "cell_type": "markdown",
   "id": "a7446993",
   "metadata": {},
   "source": [
    "### 数据清洗之删除非英语部分应用程序一"
   ]
  },
  {
   "cell_type": "code",
   "execution_count": 9,
   "id": "ba492cc5",
   "metadata": {},
   "outputs": [
    {
     "name": "stdout",
     "output_type": "stream",
     "text": [
      "😜\n",
      "True\n",
      "False\n",
      "False\n",
      "False\n"
     ]
    }
   ],
   "source": [
    "def judgeEnglish(str):\n",
    "    for c in str:\n",
    "        asc=ord(c)\n",
    "        if asc>127:\n",
    "            return False\n",
    "    return True\n",
    "str1='Instagram'\n",
    "str2='爱奇艺PPS -《欢乐颂2》电视剧热播'\n",
    "str3='Docs To Go™ Free Office Suite'\n",
    "str4=chr(128540)\n",
    "print(str4)\n",
    "print(judgeEnglish(str1))\n",
    "print(judgeEnglish(str2))\n",
    "print(judgeEnglish(str3))\n",
    "print(judgeEnglish(str4))"
   ]
  },
  {
   "cell_type": "markdown",
   "id": "bdbda5d5",
   "metadata": {},
   "source": [
    "### 数据清洗之删除非英语部分应用程序二"
   ]
  },
  {
   "cell_type": "code",
   "execution_count": 10,
   "id": "9529c265",
   "metadata": {},
   "outputs": [
    {
     "name": "stdout",
     "output_type": "stream",
     "text": [
      "True\n",
      "False\n",
      "True\n",
      "True\n",
      "['Photo Editor & Candy Camera & Grid & ScrapBook', 'ART_AND_DESIGN', '4.1', '159', '19M', '10,000+', 'Free', '0', 'Everyone', 'Art & Design', 'January 7, 2018', '1.0.0', '4.0.3 and up']\n",
      "\n",
      "\n",
      "['U Launcher Lite – FREE Live Cool Themes, Hide Apps', 'ART_AND_DESIGN', '4.7', '87510', '8.7M', '5,000,000+', 'Free', '0', 'Everyone', 'Art & Design', 'August 1, 2018', '1.2.4', '4.0.3 and up']\n",
      "\n",
      "\n",
      "['Sketch - Draw & Paint', 'ART_AND_DESIGN', '4.5', '215644', '25M', '50,000,000+', 'Free', '0', 'Teen', 'Art & Design', 'June 8, 2018', 'Varies with device', '4.2 and up']\n",
      "\n",
      "\n",
      "Number of rows: 9614\n",
      "Number of columns: 13\n",
      "\n",
      "\n",
      "['1', '281656475', 'PAC-MAN Premium', '100788224', 'USD', '3.99', '21292', '26', '4', '4.5', '6.3.5', '4+', 'Games', '38', '5', '10', '1']\n",
      "\n",
      "\n",
      "['2', '281796108', 'Evernote - stay organized', '158578688', 'USD', '0', '161065', '26', '4', '3.5', '8.2.2', '4+', 'Productivity', '37', '5', '23', '1']\n",
      "\n",
      "\n",
      "['3', '281940292', 'WeatherBug - Local Weather, Radar, Maps, Alerts', '100524032', 'USD', '0', '188583', '2822', '3.5', '4.5', '5.0.0', '4+', 'Weather', '37', '5', '3', '1']\n",
      "\n",
      "\n",
      "Number of rows: 6183\n",
      "Number of columns: 17\n"
     ]
    }
   ],
   "source": [
    "def judgeEnglish2(str):\n",
    "    count=0\n",
    "    for c in str:\n",
    "        asc=ord(c)\n",
    "        if asc>127:\n",
    "            count+=1             #!python中没有++运算符\n",
    "    if count>3:\n",
    "        return False\n",
    "    else:\n",
    "        return True\n",
    "print(judgeEnglish2(str1))\n",
    "print(judgeEnglish2(str2))\n",
    "print(judgeEnglish2(str3))\n",
    "print(judgeEnglish2(str4))\n",
    "\n",
    "Engish_goop_data=[]\n",
    "English_app_data=[]\n",
    "for row in android_clean:\n",
    "    name=row[0]\n",
    "    if judgeEnglish2(name):\n",
    "        Engish_goop_data.append(row)\n",
    "for row in apps_data:\n",
    "    name=row[2]\n",
    "    if judgeEnglish2(name):\n",
    "        English_app_data.append(row)\n",
    "\n",
    "explore_data(Engish_goop_data, 0, 3, True)\n",
    "print('\\n')\n",
    "explore_data(English_app_data, 0, 3, True)\n",
    "#print(apps_header)"
   ]
  },
  {
   "cell_type": "markdown",
   "id": "fd735367",
   "metadata": {},
   "source": [
    "### 分离免费应用"
   ]
  },
  {
   "cell_type": "code",
   "execution_count": 11,
   "id": "3857a09d",
   "metadata": {},
   "outputs": [
    {
     "name": "stdout",
     "output_type": "stream",
     "text": [
      "最终的苹果应用数量: 3222\n",
      "最终的谷歌应用数量: 8864\n"
     ]
    }
   ],
   "source": [
    "app_final=[]\n",
    "goop_final=[]\n",
    "for row in Engish_goop_data:\n",
    "    if row[7] ==\"0\":\n",
    "        goop_final.append(row)\n",
    "for row in English_app_data:\n",
    "    if row[5]=='0':\n",
    "        app_final.append(row)\n",
    "print(\"最终的苹果应用数量:\",len(app_final))\n",
    "print(\"最终的谷歌应用数量:\",len(goop_final))"
   ]
  },
  {
   "cell_type": "markdown",
   "id": "98a91604",
   "metadata": {},
   "source": [
    "### 分析最常见的应用程序类型"
   ]
  },
  {
   "cell_type": "code",
   "execution_count": 12,
   "id": "f68623aa",
   "metadata": {},
   "outputs": [
    {
     "name": "stdout",
     "output_type": "stream",
     "text": [
      "Games : 58.16263190564867\n",
      "Entertainment : 7.883302296710118\n",
      "Photo & Video : 4.9658597144630665\n",
      "Education : 3.662321539416512\n",
      "Social Networking : 3.2898820608317814\n",
      "Shopping : 2.60707635009311\n",
      "Utilities : 2.5139664804469275\n",
      "Sports : 2.1415270018621975\n",
      "Music : 2.0484171322160147\n",
      "Health & Fitness : 2.0173805090006205\n",
      "Productivity : 1.7380509000620732\n",
      "Lifestyle : 1.5828677839851024\n",
      "News : 1.3345747982619491\n",
      "Travel : 1.2414649286157666\n",
      "Finance : 1.1173184357541899\n",
      "Weather : 0.8690254500310366\n",
      "Food & Drink : 0.8069522036002483\n",
      "Reference : 0.5586592178770949\n",
      "Business : 0.5276225946617008\n",
      "Book : 0.4345127250155183\n",
      "Navigation : 0.186219739292365\n",
      "Medical : 0.186219739292365\n",
      "Catalogs : 0.12414649286157665\n"
     ]
    }
   ],
   "source": [
    "def freq_table(dataset, index):\n",
    "    table = {}\n",
    "    total = 0\n",
    "    \n",
    "    for row in dataset:\n",
    "        total += 1\n",
    "        value = row[index]\n",
    "        if value in table:\n",
    "            table[value] += 1\n",
    "        else:\n",
    "            table[value] = 1\n",
    "    \n",
    "    table_percentages = {}\n",
    "    for key in table:\n",
    "        percentage = (table[key] / total) * 100\n",
    "        table_percentages[key] = percentage \n",
    "    \n",
    "    return table_percentages\n",
    "\n",
    "\n",
    "def display_table(dataset, index):\n",
    "    table = freq_table(dataset, index)\n",
    "    table_display = []\n",
    "    for key in table:\n",
    "        key_val_as_tuple = (table[key], key)\n",
    "        table_display.append(key_val_as_tuple)\n",
    "    #字典中，按value排序，是降序\n",
    "    table_sorted = sorted(table_display, reverse = True)\n",
    "    for entry in table_sorted:\n",
    "        print(entry[1], ':', entry[0])\n",
    "\n",
    "display_table(app_final,-5)"
   ]
  },
  {
   "cell_type": "markdown",
   "id": "bc7cb707",
   "metadata": {},
   "source": [
    "对APP Store数据集分析，最常见类型为“游戏”。大多数应用程序是为实用目的(教育、购物、公用事业、生产力、生活方式)而设计的。\n",
    "你能仅根据这个频率表为app Store市场推荐一个应用程序配置文件吗?NO\n",
    "如果某个特定类型的应用程序数量很大，这是否意味着该类型的应用程序通常拥有大量用户?NO"
   ]
  },
  {
   "cell_type": "code",
   "execution_count": 13,
   "id": "78409c6e",
   "metadata": {},
   "outputs": [
    {
     "name": "stdout",
     "output_type": "stream",
     "text": [
      "Category:\n",
      "\n",
      "FAMILY : 18.907942238267147\n",
      "GAME : 9.724729241877256\n",
      "TOOLS : 8.461191335740072\n",
      "BUSINESS : 4.591606498194946\n",
      "LIFESTYLE : 3.9034296028880866\n",
      "PRODUCTIVITY : 3.892148014440433\n",
      "FINANCE : 3.7003610108303246\n",
      "MEDICAL : 3.531137184115524\n",
      "SPORTS : 3.395758122743682\n",
      "PERSONALIZATION : 3.3167870036101084\n",
      "COMMUNICATION : 3.2378158844765346\n",
      "HEALTH_AND_FITNESS : 3.0798736462093865\n",
      "PHOTOGRAPHY : 2.944494584837545\n",
      "NEWS_AND_MAGAZINES : 2.7978339350180503\n",
      "SOCIAL : 2.6624548736462095\n",
      "TRAVEL_AND_LOCAL : 2.33528880866426\n",
      "SHOPPING : 2.2450361010830324\n",
      "BOOKS_AND_REFERENCE : 2.1435018050541514\n",
      "DATING : 1.861462093862816\n",
      "VIDEO_PLAYERS : 1.7937725631768955\n",
      "MAPS_AND_NAVIGATION : 1.3989169675090252\n",
      "FOOD_AND_DRINK : 1.2409747292418771\n",
      "EDUCATION : 1.1620036101083033\n",
      "ENTERTAINMENT : 0.9589350180505415\n",
      "LIBRARIES_AND_DEMO : 0.9363718411552346\n",
      "AUTO_AND_VEHICLES : 0.9250902527075812\n",
      "HOUSE_AND_HOME : 0.8235559566787004\n",
      "WEATHER : 0.8009927797833934\n",
      "EVENTS : 0.7107400722021661\n",
      "PARENTING : 0.6543321299638989\n",
      "ART_AND_DESIGN : 0.6430505415162455\n",
      "COMICS : 0.6204873646209386\n",
      "BEAUTY : 0.5979241877256317\n"
     ]
    }
   ],
   "source": [
    "print('Category:\\n')\n",
    "display_table(goop_final,1)"
   ]
  },
  {
   "cell_type": "code",
   "execution_count": 14,
   "id": "f28a5fac",
   "metadata": {},
   "outputs": [
    {
     "name": "stdout",
     "output_type": "stream",
     "text": [
      "Genres:\n",
      "\n",
      "Tools : 8.449909747292418\n",
      "Entertainment : 6.069494584837545\n",
      "Education : 5.347472924187725\n",
      "Business : 4.591606498194946\n",
      "Productivity : 3.892148014440433\n",
      "Lifestyle : 3.892148014440433\n",
      "Finance : 3.7003610108303246\n",
      "Medical : 3.531137184115524\n",
      "Sports : 3.463447653429603\n",
      "Personalization : 3.3167870036101084\n",
      "Communication : 3.2378158844765346\n",
      "Action : 3.1024368231046933\n",
      "Health & Fitness : 3.0798736462093865\n",
      "Photography : 2.944494584837545\n",
      "News & Magazines : 2.7978339350180503\n",
      "Social : 2.6624548736462095\n",
      "Travel & Local : 2.3240072202166067\n",
      "Shopping : 2.2450361010830324\n",
      "Books & Reference : 2.1435018050541514\n",
      "Simulation : 2.0419675090252705\n",
      "Dating : 1.861462093862816\n",
      "Arcade : 1.8501805054151623\n",
      "Video Players & Editors : 1.7712093862815883\n",
      "Casual : 1.7599277978339352\n",
      "Maps & Navigation : 1.3989169675090252\n",
      "Food & Drink : 1.2409747292418771\n",
      "Puzzle : 1.128158844765343\n",
      "Racing : 0.9927797833935018\n",
      "Role Playing : 0.9363718411552346\n",
      "Libraries & Demo : 0.9363718411552346\n",
      "Auto & Vehicles : 0.9250902527075812\n",
      "Strategy : 0.9138086642599278\n",
      "House & Home : 0.8235559566787004\n",
      "Weather : 0.8009927797833934\n",
      "Events : 0.7107400722021661\n",
      "Adventure : 0.6768953068592057\n",
      "Comics : 0.6092057761732852\n",
      "Beauty : 0.5979241877256317\n",
      "Art & Design : 0.5979241877256317\n",
      "Parenting : 0.4963898916967509\n",
      "Card : 0.45126353790613716\n",
      "Casino : 0.42870036101083037\n",
      "Trivia : 0.41741877256317694\n",
      "Educational;Education : 0.39485559566787\n",
      "Board : 0.3835740072202166\n",
      "Educational : 0.3722924187725632\n",
      "Education;Education : 0.33844765342960287\n",
      "Word : 0.2594765342960289\n",
      "Casual;Pretend Play : 0.236913357400722\n",
      "Music : 0.2030685920577617\n",
      "Racing;Action & Adventure : 0.16922382671480143\n",
      "Puzzle;Brain Games : 0.16922382671480143\n",
      "Entertainment;Music & Video : 0.16922382671480143\n",
      "Casual;Brain Games : 0.13537906137184114\n",
      "Casual;Action & Adventure : 0.13537906137184114\n",
      "Arcade;Action & Adventure : 0.12409747292418773\n",
      "Action;Action & Adventure : 0.10153429602888085\n",
      "Educational;Pretend Play : 0.09025270758122744\n",
      "Simulation;Action & Adventure : 0.078971119133574\n",
      "Parenting;Education : 0.078971119133574\n",
      "Entertainment;Brain Games : 0.078971119133574\n",
      "Board;Brain Games : 0.078971119133574\n",
      "Parenting;Music & Video : 0.06768953068592057\n",
      "Educational;Brain Games : 0.06768953068592057\n",
      "Casual;Creativity : 0.06768953068592057\n",
      "Art & Design;Creativity : 0.06768953068592057\n",
      "Education;Pretend Play : 0.056407942238267145\n",
      "Role Playing;Pretend Play : 0.04512635379061372\n",
      "Education;Creativity : 0.04512635379061372\n",
      "Role Playing;Action & Adventure : 0.033844765342960284\n",
      "Puzzle;Action & Adventure : 0.033844765342960284\n",
      "Entertainment;Creativity : 0.033844765342960284\n",
      "Entertainment;Action & Adventure : 0.033844765342960284\n",
      "Educational;Creativity : 0.033844765342960284\n",
      "Educational;Action & Adventure : 0.033844765342960284\n",
      "Education;Music & Video : 0.033844765342960284\n",
      "Education;Brain Games : 0.033844765342960284\n",
      "Education;Action & Adventure : 0.033844765342960284\n",
      "Adventure;Action & Adventure : 0.033844765342960284\n",
      "Video Players & Editors;Music & Video : 0.02256317689530686\n",
      "Sports;Action & Adventure : 0.02256317689530686\n",
      "Simulation;Pretend Play : 0.02256317689530686\n",
      "Puzzle;Creativity : 0.02256317689530686\n",
      "Music;Music & Video : 0.02256317689530686\n",
      "Entertainment;Pretend Play : 0.02256317689530686\n",
      "Casual;Education : 0.02256317689530686\n",
      "Board;Action & Adventure : 0.02256317689530686\n",
      "Video Players & Editors;Creativity : 0.01128158844765343\n",
      "Trivia;Education : 0.01128158844765343\n",
      "Travel & Local;Action & Adventure : 0.01128158844765343\n",
      "Tools;Education : 0.01128158844765343\n",
      "Strategy;Education : 0.01128158844765343\n",
      "Strategy;Creativity : 0.01128158844765343\n",
      "Strategy;Action & Adventure : 0.01128158844765343\n",
      "Simulation;Education : 0.01128158844765343\n",
      "Role Playing;Brain Games : 0.01128158844765343\n",
      "Racing;Pretend Play : 0.01128158844765343\n",
      "Puzzle;Education : 0.01128158844765343\n",
      "Parenting;Brain Games : 0.01128158844765343\n",
      "Music & Audio;Music & Video : 0.01128158844765343\n",
      "Lifestyle;Pretend Play : 0.01128158844765343\n",
      "Lifestyle;Education : 0.01128158844765343\n",
      "Health & Fitness;Education : 0.01128158844765343\n",
      "Health & Fitness;Action & Adventure : 0.01128158844765343\n",
      "Entertainment;Education : 0.01128158844765343\n",
      "Communication;Creativity : 0.01128158844765343\n",
      "Comics;Creativity : 0.01128158844765343\n",
      "Casual;Music & Video : 0.01128158844765343\n",
      "Card;Action & Adventure : 0.01128158844765343\n",
      "Books & Reference;Education : 0.01128158844765343\n",
      "Art & Design;Pretend Play : 0.01128158844765343\n",
      "Art & Design;Action & Adventure : 0.01128158844765343\n",
      "Arcade;Pretend Play : 0.01128158844765343\n",
      "Adventure;Education : 0.01128158844765343\n"
     ]
    }
   ],
   "source": [
    "print('Genres:\\n')\n",
    "display_table(goop_final,9)"
   ]
  },
  {
   "cell_type": "markdown",
   "id": "b15f50d4",
   "metadata": {},
   "source": [
    "### 分析App Store中最受欢迎的应用类型"
   ]
  },
  {
   "cell_type": "code",
   "execution_count": 15,
   "id": "ade64a2a",
   "metadata": {},
   "outputs": [
    {
     "name": "stdout",
     "output_type": "stream",
     "text": [
      "平均用户评分：\n",
      "Productivity : 4.0\n",
      "Weather : 3.482142857142857\n",
      "Shopping : 3.9702380952380953\n",
      "Reference : 3.6666666666666665\n",
      "Finance : 3.375\n",
      "Music : 3.946969696969697\n",
      "Utilities : 3.5308641975308643\n",
      "Travel : 3.4875\n",
      "Social Networking : 3.5943396226415096\n",
      "Sports : 3.0652173913043477\n",
      "Health & Fitness : 3.769230769230769\n",
      "Games : 4.037086446104589\n",
      "Food & Drink : 3.6346153846153846\n",
      "News : 3.244186046511628\n",
      "Book : 3.0714285714285716\n",
      "Photo & Video : 3.903125\n",
      "Entertainment : 3.5393700787401574\n",
      "Business : 3.9705882352941178\n",
      "Lifestyle : 3.411764705882353\n",
      "Education : 3.635593220338983\n",
      "Navigation : 3.8333333333333335\n",
      "Medical : 3.0\n",
      "Catalogs : 4.125\n"
     ]
    }
   ],
   "source": [
    "freq_tabl=freq_table(app_final,-5)\n",
    "avg_rating={}\n",
    "for row1 in freq_tabl:\n",
    "    total=0\n",
    "    len_genre=0\n",
    "    for row2 in app_final:\n",
    "        genre_app=row2[-5]\n",
    "\n",
    "        if(genre_app==row1):\n",
    "            rat_mark=float(row2[8])\n",
    "            total+=rat_mark\n",
    "            len_genre+=1\n",
    "    avg_rating[row1]=total/len_genre;\n",
    "print(\"平均用户评分：\")\n",
    "for it in avg_rating:\n",
    "    print(it,\":\",avg_rating[it])\n",
    "#print(avg_rating)"
   ]
  },
  {
   "cell_type": "markdown",
   "id": "502cb362",
   "metadata": {},
   "source": [
    "### ->app profile推荐：推荐Game类型，因为Game类型占比最大而且综合评分较高（排名第二位），因此我认为Game类型会比较合适"
   ]
  },
  {
   "cell_type": "markdown",
   "id": "489fc1a9",
   "metadata": {},
   "source": [
    "### 计算Google Play中最受欢迎的应用类型"
   ]
  },
  {
   "cell_type": "code",
   "execution_count": 16,
   "id": "1a649d63",
   "metadata": {},
   "outputs": [
    {
     "name": "stdout",
     "output_type": "stream",
     "text": [
      "1,000,000+ : 15.726534296028879\n",
      "100,000+ : 11.552346570397113\n",
      "10,000,000+ : 10.548285198555957\n",
      "10,000+ : 10.198555956678701\n",
      "1,000+ : 8.393501805054152\n",
      "100+ : 6.915613718411552\n",
      "5,000,000+ : 6.825361010830325\n",
      "500,000+ : 5.561823104693141\n",
      "50,000+ : 4.7721119133574\n",
      "5,000+ : 4.512635379061372\n",
      "10+ : 3.5424187725631766\n",
      "500+ : 3.2490974729241873\n",
      "50,000,000+ : 2.3014440433213\n",
      "100,000,000+ : 2.1322202166064983\n",
      "50+ : 1.917870036101083\n",
      "5+ : 0.78971119133574\n",
      "1+ : 0.5076714801444043\n",
      "500,000,000+ : 0.2707581227436823\n",
      "1,000,000,000+ : 0.22563176895306858\n",
      "0+ : 0.04512635379061372\n",
      "0 : 0.01128158844765343\n"
     ]
    }
   ],
   "source": [
    "display_table(goop_final,5)"
   ]
  },
  {
   "cell_type": "markdown",
   "id": "8a2928b8",
   "metadata": {},
   "source": [
    "我们并不关注精确的用户数量，因此我们认为“10，000+”代表用户数量10000，因此我们要删除逗号和引号。"
   ]
  },
  {
   "cell_type": "code",
   "execution_count": 17,
   "id": "714ddd55",
   "metadata": {},
   "outputs": [
    {
     "name": "stdout",
     "output_type": "stream",
     "text": [
      "ART_AND_DESIGN : 1986335.0877192982\n",
      "AUTO_AND_VEHICLES : 647317.8170731707\n",
      "BEAUTY : 513151.88679245283\n",
      "BOOKS_AND_REFERENCE : 8767811.894736841\n",
      "BUSINESS : 1712290.1474201474\n",
      "COMICS : 817657.2727272727\n",
      "COMMUNICATION : 38456119.167247385\n",
      "DATING : 854028.8303030303\n",
      "EDUCATION : 1833495.145631068\n",
      "ENTERTAINMENT : 11640705.88235294\n",
      "EVENTS : 253542.22222222222\n",
      "FINANCE : 1387692.475609756\n",
      "FOOD_AND_DRINK : 1924897.7363636363\n",
      "HEALTH_AND_FITNESS : 4188821.9853479853\n",
      "HOUSE_AND_HOME : 1331540.5616438356\n",
      "LIBRARIES_AND_DEMO : 638503.734939759\n",
      "LIFESTYLE : 1437816.2687861272\n",
      "GAME : 15588015.603248259\n",
      "FAMILY : 3695641.8198090694\n",
      "MEDICAL : 120550.61980830671\n",
      "SOCIAL : 23253652.127118643\n",
      "SHOPPING : 7036877.311557789\n",
      "PHOTOGRAPHY : 17840110.40229885\n",
      "SPORTS : 3638640.1428571427\n",
      "TRAVEL_AND_LOCAL : 13984077.710144928\n",
      "TOOLS : 10801391.298666667\n",
      "PERSONALIZATION : 5201482.6122448975\n",
      "PRODUCTIVITY : 16787331.344927534\n",
      "PARENTING : 542603.6206896552\n",
      "WEATHER : 5074486.197183099\n",
      "VIDEO_PLAYERS : 24727872.452830188\n",
      "NEWS_AND_MAGAZINES : 9549178.467741935\n",
      "MAPS_AND_NAVIGATION : 4056941.7741935486\n"
     ]
    }
   ],
   "source": [
    "freq_tabl=freq_table(goop_final,1)\n",
    "avg_install={}\n",
    "for category in freq_tabl:\n",
    "    total=0\n",
    "    len_category=0\n",
    "    for row in goop_final:\n",
    "        category_app=row[1]\n",
    "        if category==category_app:\n",
    "            install=row[5]\n",
    "            install=install.replace('+','')\n",
    "            install=install.replace(',','')\n",
    "            install=float(install)\n",
    "            total+=install\n",
    "            len_category+=1\n",
    "    avg=total/len_category\n",
    "    avg_install[category]=avg\n",
    "for it in avg_install:\n",
    "    print(it,':',avg_install[it])\n"
   ]
  },
  {
   "cell_type": "markdown",
   "id": "9f11980c",
   "metadata": {},
   "source": [
    "我们经过上面输出的分析得出，BOOKS_AND_REFERENCE 、COMMUNICATION 、ENTERTAINMENT 、GAME 、SOCIAL 、PHOTOGRAPHY 、TRAVEL_AND_LOCAL 、TOOLS 、PRODUCTIVITY 、VIDEO_PLAYERS 、NEWS_AND_MAGAZINES 这些类别在谷歌商店评论较多，比较受欢迎。"
   ]
  },
  {
   "cell_type": "markdown",
   "id": "1ae166a9",
   "metadata": {},
   "source": [
    "## 三、实验结论"
   ]
  },
  {
   "cell_type": "markdown",
   "id": "56f659ff",
   "metadata": {},
   "source": [
    "在分析到这里的时候，我自己的答案是推荐一个“游戏类型”的应用，因为它既在app store中受欢迎，综合评分居第二位，又在谷歌商店中拥有高安装量。\n",
    "但是在看了solution之后，我觉得我的想法过于简单，solution中考虑的更加周到。他在得出了每个类别的平均安装量后并没有直接得出了结论，而又做了进一步的分析，即出去某些安装量极高的各别应用后再重新计算出一个新的数值，这样做能够消除一些“巨头”对我们数据分析的影响，他们可能导致我们得到的结果更不客观，因为我们要得到的是整个类别的平均水平。这与裁判打分计算平均分前需要去除最高分和最低分的道理类似。比如COMMUNICATION类中的WhatsApp, Facebook Messenger, Skype, Google Chrome, Gmail, and Hangouts等。\n",
    "在自己的想法与solution对比之后，我也意识到自己思考问题的简单性，如何更科学、更客观地分析数据，也是我今后要积累的吧。"
   ]
  },
  {
   "cell_type": "markdown",
   "id": "a7f30112",
   "metadata": {},
   "source": [
    "## 四、实验总结"
   ]
  },
  {
   "cell_type": "markdown",
   "id": "68f54224",
   "metadata": {},
   "source": [
    "1.巩固了python的基础语法知识。包括变量、条件、文件的读入、循环、列表、字典等等。\n",
    "\n",
    "2.进行了基本的数据分析操作。包括数据清洗：去除异常数据、去除重复数据；数据的筛选：去除非英文数据、分离免费应用;数据的分类；制作频率表等等。\n",
    "\n",
    "3.实验时遇到的问题。在实验过程中我是按照实验指导书与头鸽平台上的实验要求来做的，但是对于一些指导会百思不得其解，比如当做到删除重复条目的第二部分时，提醒创建android_clean与alread_add两个列表，这里有些想不通，看了solution后才知道它把谷歌商店里的命名为android，而苹果是ios；还有在进行数据清洗的时候有时得出的结果的列数与指导书给出的结果不同，看了solution才知道是apps store和谷歌商店全部做了清洗，但是按照头鸽的步骤一步步做的话应该是前面部分只对一个数据集做了清洗；还有就是自己出来的中间结果数据集可能会与solution不同，如自己的数据集是将表头与数据放在一起，使用表头的时候就用零号索引即可，而solution中的是用header和data把二者分开，所以在实验过程中如果哪一步遇到问题只去看当前这一步的solution是不够的，要“知其全貌”，因为它在前面的处理就有可能和你不同了。"
   ]
  }
 ],
 "metadata": {
  "kernelspec": {
   "display_name": "Python 3 (ipykernel)",
   "language": "python",
   "name": "python3"
  },
  "language_info": {
   "codemirror_mode": {
    "name": "ipython",
    "version": 3
   },
   "file_extension": ".py",
   "mimetype": "text/x-python",
   "name": "python",
   "nbconvert_exporter": "python",
   "pygments_lexer": "ipython3",
   "version": "3.8.12"
  }
 },
 "nbformat": 4,
 "nbformat_minor": 5
}
